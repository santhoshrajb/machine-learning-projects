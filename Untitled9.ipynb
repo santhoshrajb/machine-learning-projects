{
 "cells": [
  {
   "cell_type": "code",
   "execution_count": 1,
   "id": "695f4b9b",
   "metadata": {},
   "outputs": [],
   "source": [
    "import numpy as np\n",
    "import pandas as pd"
   ]
  },
  {
   "cell_type": "code",
   "execution_count": 2,
   "id": "f73792ef",
   "metadata": {},
   "outputs": [],
   "source": [
    "ss=pd.DataFrame()"
   ]
  },
  {
   "cell_type": "code",
   "execution_count": 3,
   "id": "7793e31f",
   "metadata": {},
   "outputs": [],
   "source": [
    "df=pd.read_csv(\"students.csv\")"
   ]
  },
  {
   "cell_type": "code",
   "execution_count": 4,
   "id": "3783745d",
   "metadata": {},
   "outputs": [
    {
     "data": {
      "text/html": [
       "<div>\n",
       "<style scoped>\n",
       "    .dataframe tbody tr th:only-of-type {\n",
       "        vertical-align: middle;\n",
       "    }\n",
       "\n",
       "    .dataframe tbody tr th {\n",
       "        vertical-align: top;\n",
       "    }\n",
       "\n",
       "    .dataframe thead th {\n",
       "        text-align: right;\n",
       "    }\n",
       "</style>\n",
       "<table border=\"1\" class=\"dataframe\">\n",
       "  <thead>\n",
       "    <tr style=\"text-align: right;\">\n",
       "      <th></th>\n",
       "      <th>Rank</th>\n",
       "      <th>Name</th>\n",
       "      <th>Age</th>\n",
       "      <th>Gender</th>\n",
       "      <th>Background</th>\n",
       "      <th>Python</th>\n",
       "      <th>Machine Learning</th>\n",
       "    </tr>\n",
       "  </thead>\n",
       "  <tbody>\n",
       "    <tr>\n",
       "      <th>0</th>\n",
       "      <td>Rank 1</td>\n",
       "      <td>Ravi</td>\n",
       "      <td>23</td>\n",
       "      <td>Male</td>\n",
       "      <td>Tech</td>\n",
       "      <td>89</td>\n",
       "      <td>95</td>\n",
       "    </tr>\n",
       "    <tr>\n",
       "      <th>1</th>\n",
       "      <td>Rank 2</td>\n",
       "      <td>Chandni</td>\n",
       "      <td>22</td>\n",
       "      <td>Female</td>\n",
       "      <td>Non-Tech</td>\n",
       "      <td>78</td>\n",
       "      <td>83</td>\n",
       "    </tr>\n",
       "    <tr>\n",
       "      <th>2</th>\n",
       "      <td>Rank 3</td>\n",
       "      <td>Gyanesh</td>\n",
       "      <td>25</td>\n",
       "      <td>Male</td>\n",
       "      <td>Tech</td>\n",
       "      <td>70</td>\n",
       "      <td>80</td>\n",
       "    </tr>\n",
       "    <tr>\n",
       "      <th>3</th>\n",
       "      <td>Rank 4</td>\n",
       "      <td>Rahul</td>\n",
       "      <td>22</td>\n",
       "      <td>Male</td>\n",
       "      <td>Tech</td>\n",
       "      <td>68</td>\n",
       "      <td>75</td>\n",
       "    </tr>\n",
       "    <tr>\n",
       "      <th>4</th>\n",
       "      <td>Rank 5</td>\n",
       "      <td>Kartik</td>\n",
       "      <td>23</td>\n",
       "      <td>Male</td>\n",
       "      <td>Tech</td>\n",
       "      <td>60</td>\n",
       "      <td>70</td>\n",
       "    </tr>\n",
       "    <tr>\n",
       "      <th>5</th>\n",
       "      <td>Rank 6</td>\n",
       "      <td>Pratiksha</td>\n",
       "      <td>24</td>\n",
       "      <td>Female</td>\n",
       "      <td>Non-Tech</td>\n",
       "      <td>58</td>\n",
       "      <td>55</td>\n",
       "    </tr>\n",
       "    <tr>\n",
       "      <th>6</th>\n",
       "      <td>Rank 7</td>\n",
       "      <td>Maya</td>\n",
       "      <td>22</td>\n",
       "      <td>Female</td>\n",
       "      <td>Non-Tech</td>\n",
       "      <td>55</td>\n",
       "      <td>50</td>\n",
       "    </tr>\n",
       "    <tr>\n",
       "      <th>7</th>\n",
       "      <td>Rank 8</td>\n",
       "      <td>Shani</td>\n",
       "      <td>21</td>\n",
       "      <td>Male</td>\n",
       "      <td>Tech</td>\n",
       "      <td>50</td>\n",
       "      <td>50</td>\n",
       "    </tr>\n",
       "    <tr>\n",
       "      <th>8</th>\n",
       "      <td>Rank 9</td>\n",
       "      <td>Neelam</td>\n",
       "      <td>24</td>\n",
       "      <td>Female</td>\n",
       "      <td>Non-Tech</td>\n",
       "      <td>50</td>\n",
       "      <td>47</td>\n",
       "    </tr>\n",
       "    <tr>\n",
       "      <th>9</th>\n",
       "      <td>Rank 10</td>\n",
       "      <td>Mangal</td>\n",
       "      <td>22</td>\n",
       "      <td>Male</td>\n",
       "      <td>Non-Tech</td>\n",
       "      <td>45</td>\n",
       "      <td>46</td>\n",
       "    </tr>\n",
       "  </tbody>\n",
       "</table>\n",
       "</div>"
      ],
      "text/plain": [
       "      Rank       Name  Age  Gender Background  Python  Machine Learning\n",
       "0   Rank 1       Ravi   23    Male       Tech      89                95\n",
       "1   Rank 2    Chandni   22  Female   Non-Tech      78                83\n",
       "2   Rank 3    Gyanesh   25    Male       Tech      70                80\n",
       "3   Rank 4      Rahul   22    Male       Tech      68                75\n",
       "4   Rank 5     Kartik   23    Male       Tech      60                70\n",
       "5   Rank 6  Pratiksha   24  Female   Non-Tech      58                55\n",
       "6   Rank 7       Maya   22  Female   Non-Tech      55                50\n",
       "7   Rank 8      Shani   21    Male       Tech      50                50\n",
       "8   Rank 9     Neelam   24  Female   Non-Tech      50                47\n",
       "9  Rank 10     Mangal   22    Male   Non-Tech      45                46"
      ]
     },
     "execution_count": 4,
     "metadata": {},
     "output_type": "execute_result"
    }
   ],
   "source": [
    "df\n"
   ]
  },
  {
   "cell_type": "code",
   "execution_count": 5,
   "id": "2f3fac3f",
   "metadata": {},
   "outputs": [
    {
     "data": {
      "text/html": [
       "<div>\n",
       "<style scoped>\n",
       "    .dataframe tbody tr th:only-of-type {\n",
       "        vertical-align: middle;\n",
       "    }\n",
       "\n",
       "    .dataframe tbody tr th {\n",
       "        vertical-align: top;\n",
       "    }\n",
       "\n",
       "    .dataframe thead th {\n",
       "        text-align: right;\n",
       "    }\n",
       "</style>\n",
       "<table border=\"1\" class=\"dataframe\">\n",
       "  <thead>\n",
       "    <tr style=\"text-align: right;\">\n",
       "      <th></th>\n",
       "      <th>Rank</th>\n",
       "      <th>Name</th>\n",
       "      <th>Age</th>\n",
       "      <th>Gender</th>\n",
       "      <th>Background</th>\n",
       "      <th>Python</th>\n",
       "      <th>Machine Learning</th>\n",
       "    </tr>\n",
       "  </thead>\n",
       "  <tbody>\n",
       "    <tr>\n",
       "      <th>0</th>\n",
       "      <td>Rank 1</td>\n",
       "      <td>Ravi</td>\n",
       "      <td>23</td>\n",
       "      <td>Male</td>\n",
       "      <td>Tech</td>\n",
       "      <td>89</td>\n",
       "      <td>95</td>\n",
       "    </tr>\n",
       "    <tr>\n",
       "      <th>1</th>\n",
       "      <td>Rank 2</td>\n",
       "      <td>Chandni</td>\n",
       "      <td>22</td>\n",
       "      <td>Female</td>\n",
       "      <td>Non-Tech</td>\n",
       "      <td>78</td>\n",
       "      <td>83</td>\n",
       "    </tr>\n",
       "    <tr>\n",
       "      <th>2</th>\n",
       "      <td>Rank 3</td>\n",
       "      <td>Gyanesh</td>\n",
       "      <td>25</td>\n",
       "      <td>Male</td>\n",
       "      <td>Tech</td>\n",
       "      <td>70</td>\n",
       "      <td>80</td>\n",
       "    </tr>\n",
       "    <tr>\n",
       "      <th>3</th>\n",
       "      <td>Rank 4</td>\n",
       "      <td>Rahul</td>\n",
       "      <td>22</td>\n",
       "      <td>Male</td>\n",
       "      <td>Tech</td>\n",
       "      <td>68</td>\n",
       "      <td>75</td>\n",
       "    </tr>\n",
       "    <tr>\n",
       "      <th>4</th>\n",
       "      <td>Rank 5</td>\n",
       "      <td>Kartik</td>\n",
       "      <td>23</td>\n",
       "      <td>Male</td>\n",
       "      <td>Tech</td>\n",
       "      <td>60</td>\n",
       "      <td>70</td>\n",
       "    </tr>\n",
       "  </tbody>\n",
       "</table>\n",
       "</div>"
      ],
      "text/plain": [
       "     Rank     Name  Age  Gender Background  Python  Machine Learning\n",
       "0  Rank 1     Ravi   23    Male       Tech      89                95\n",
       "1  Rank 2  Chandni   22  Female   Non-Tech      78                83\n",
       "2  Rank 3  Gyanesh   25    Male       Tech      70                80\n",
       "3  Rank 4    Rahul   22    Male       Tech      68                75\n",
       "4  Rank 5   Kartik   23    Male       Tech      60                70"
      ]
     },
     "execution_count": 5,
     "metadata": {},
     "output_type": "execute_result"
    }
   ],
   "source": [
    "df.head()"
   ]
  },
  {
   "cell_type": "code",
   "execution_count": 6,
   "id": "c210630b",
   "metadata": {},
   "outputs": [
    {
     "data": {
      "text/html": [
       "<div>\n",
       "<style scoped>\n",
       "    .dataframe tbody tr th:only-of-type {\n",
       "        vertical-align: middle;\n",
       "    }\n",
       "\n",
       "    .dataframe tbody tr th {\n",
       "        vertical-align: top;\n",
       "    }\n",
       "\n",
       "    .dataframe thead th {\n",
       "        text-align: right;\n",
       "    }\n",
       "</style>\n",
       "<table border=\"1\" class=\"dataframe\">\n",
       "  <thead>\n",
       "    <tr style=\"text-align: right;\">\n",
       "      <th></th>\n",
       "      <th>Rank</th>\n",
       "      <th>Name</th>\n",
       "      <th>Age</th>\n",
       "      <th>Gender</th>\n",
       "      <th>Background</th>\n",
       "      <th>Python</th>\n",
       "      <th>Machine Learning</th>\n",
       "    </tr>\n",
       "  </thead>\n",
       "  <tbody>\n",
       "    <tr>\n",
       "      <th>5</th>\n",
       "      <td>Rank 6</td>\n",
       "      <td>Pratiksha</td>\n",
       "      <td>24</td>\n",
       "      <td>Female</td>\n",
       "      <td>Non-Tech</td>\n",
       "      <td>58</td>\n",
       "      <td>55</td>\n",
       "    </tr>\n",
       "    <tr>\n",
       "      <th>6</th>\n",
       "      <td>Rank 7</td>\n",
       "      <td>Maya</td>\n",
       "      <td>22</td>\n",
       "      <td>Female</td>\n",
       "      <td>Non-Tech</td>\n",
       "      <td>55</td>\n",
       "      <td>50</td>\n",
       "    </tr>\n",
       "    <tr>\n",
       "      <th>7</th>\n",
       "      <td>Rank 8</td>\n",
       "      <td>Shani</td>\n",
       "      <td>21</td>\n",
       "      <td>Male</td>\n",
       "      <td>Tech</td>\n",
       "      <td>50</td>\n",
       "      <td>50</td>\n",
       "    </tr>\n",
       "    <tr>\n",
       "      <th>8</th>\n",
       "      <td>Rank 9</td>\n",
       "      <td>Neelam</td>\n",
       "      <td>24</td>\n",
       "      <td>Female</td>\n",
       "      <td>Non-Tech</td>\n",
       "      <td>50</td>\n",
       "      <td>47</td>\n",
       "    </tr>\n",
       "    <tr>\n",
       "      <th>9</th>\n",
       "      <td>Rank 10</td>\n",
       "      <td>Mangal</td>\n",
       "      <td>22</td>\n",
       "      <td>Male</td>\n",
       "      <td>Non-Tech</td>\n",
       "      <td>45</td>\n",
       "      <td>46</td>\n",
       "    </tr>\n",
       "  </tbody>\n",
       "</table>\n",
       "</div>"
      ],
      "text/plain": [
       "      Rank       Name  Age  Gender Background  Python  Machine Learning\n",
       "5   Rank 6  Pratiksha   24  Female   Non-Tech      58                55\n",
       "6   Rank 7       Maya   22  Female   Non-Tech      55                50\n",
       "7   Rank 8      Shani   21    Male       Tech      50                50\n",
       "8   Rank 9     Neelam   24  Female   Non-Tech      50                47\n",
       "9  Rank 10     Mangal   22    Male   Non-Tech      45                46"
      ]
     },
     "execution_count": 6,
     "metadata": {},
     "output_type": "execute_result"
    }
   ],
   "source": [
    "df.tail()"
   ]
  },
  {
   "cell_type": "code",
   "execution_count": 7,
   "id": "bce05d9d",
   "metadata": {},
   "outputs": [
    {
     "data": {
      "text/plain": [
       "Rank                object\n",
       "Name                object\n",
       "Age                  int64\n",
       "Gender              object\n",
       "Background          object\n",
       "Python               int64\n",
       "Machine Learning     int64\n",
       "dtype: object"
      ]
     },
     "execution_count": 7,
     "metadata": {},
     "output_type": "execute_result"
    }
   ],
   "source": [
    "df.dtypes"
   ]
  },
  {
   "cell_type": "code",
   "execution_count": 8,
   "id": "70ef7362",
   "metadata": {},
   "outputs": [
    {
     "data": {
      "text/plain": [
       "(10, 7)"
      ]
     },
     "execution_count": 8,
     "metadata": {},
     "output_type": "execute_result"
    }
   ],
   "source": [
    "df.shape"
   ]
  },
  {
   "cell_type": "code",
   "execution_count": 9,
   "id": "73787ce1",
   "metadata": {},
   "outputs": [
    {
     "data": {
      "text/plain": [
       "Index(['Rank', 'Name', 'Age', 'Gender', 'Background', 'Python',\n",
       "       'Machine Learning'],\n",
       "      dtype='object')"
      ]
     },
     "execution_count": 9,
     "metadata": {},
     "output_type": "execute_result"
    }
   ],
   "source": [
    "df.columns"
   ]
  },
  {
   "cell_type": "code",
   "execution_count": 10,
   "id": "fd08ea4f",
   "metadata": {},
   "outputs": [
    {
     "name": "stdout",
     "output_type": "stream",
     "text": [
      "<class 'pandas.core.frame.DataFrame'>\n",
      "RangeIndex: 10 entries, 0 to 9\n",
      "Data columns (total 7 columns):\n",
      " #   Column            Non-Null Count  Dtype \n",
      "---  ------            --------------  ----- \n",
      " 0   Rank              10 non-null     object\n",
      " 1   Name              10 non-null     object\n",
      " 2   Age               10 non-null     int64 \n",
      " 3   Gender            10 non-null     object\n",
      " 4   Background        10 non-null     object\n",
      " 5   Python            10 non-null     int64 \n",
      " 6   Machine Learning  10 non-null     int64 \n",
      "dtypes: int64(3), object(4)\n",
      "memory usage: 688.0+ bytes\n"
     ]
    }
   ],
   "source": [
    "df.info()\n"
   ]
  },
  {
   "cell_type": "code",
   "execution_count": 11,
   "id": "f76f5961",
   "metadata": {},
   "outputs": [
    {
     "data": {
      "text/plain": [
       "0         Ravi\n",
       "1      Chandni\n",
       "2      Gyanesh\n",
       "3        Rahul\n",
       "4       Kartik\n",
       "5    Pratiksha\n",
       "6         Maya\n",
       "7        Shani\n",
       "8       Neelam\n",
       "9       Mangal\n",
       "Name: Name, dtype: object"
      ]
     },
     "execution_count": 11,
     "metadata": {},
     "output_type": "execute_result"
    }
   ],
   "source": [
    "df.Name#dot notation"
   ]
  },
  {
   "cell_type": "code",
   "execution_count": 12,
   "id": "a255587a",
   "metadata": {},
   "outputs": [
    {
     "data": {
      "text/plain": [
       "0    95\n",
       "1    83\n",
       "2    80\n",
       "3    75\n",
       "4    70\n",
       "5    55\n",
       "6    50\n",
       "7    50\n",
       "8    47\n",
       "9    46\n",
       "Name: Machine Learning, dtype: int64"
      ]
     },
     "execution_count": 12,
     "metadata": {},
     "output_type": "execute_result"
    }
   ],
   "source": [
    "df[\"Machine Learning\"]# bracket  notation"
   ]
  },
  {
   "cell_type": "markdown",
   "id": "309f5830",
   "metadata": {},
   "source": [
    "# loc"
   ]
  },
  {
   "cell_type": "code",
   "execution_count": 13,
   "id": "2fa0c3bd",
   "metadata": {},
   "outputs": [
    {
     "data": {
      "text/plain": [
       "Rank                   Rank 6\n",
       "Name                Pratiksha\n",
       "Age                        24\n",
       "Gender                 Female\n",
       "Background           Non-Tech\n",
       "Python                     58\n",
       "Machine Learning           55\n",
       "Name: 5, dtype: object"
      ]
     },
     "execution_count": 13,
     "metadata": {},
     "output_type": "execute_result"
    }
   ],
   "source": [
    "df.loc[5]"
   ]
  },
  {
   "cell_type": "code",
   "execution_count": 14,
   "id": "fb5ebfbd",
   "metadata": {},
   "outputs": [],
   "source": [
    "# df.loc[3:7]"
   ]
  },
  {
   "cell_type": "code",
   "execution_count": 15,
   "id": "6a63305e",
   "metadata": {},
   "outputs": [
    {
     "data": {
      "text/html": [
       "<div>\n",
       "<style scoped>\n",
       "    .dataframe tbody tr th:only-of-type {\n",
       "        vertical-align: middle;\n",
       "    }\n",
       "\n",
       "    .dataframe tbody tr th {\n",
       "        vertical-align: top;\n",
       "    }\n",
       "\n",
       "    .dataframe thead th {\n",
       "        text-align: right;\n",
       "    }\n",
       "</style>\n",
       "<table border=\"1\" class=\"dataframe\">\n",
       "  <thead>\n",
       "    <tr style=\"text-align: right;\">\n",
       "      <th></th>\n",
       "      <th>Name</th>\n",
       "      <th>Age</th>\n",
       "    </tr>\n",
       "  </thead>\n",
       "  <tbody>\n",
       "    <tr>\n",
       "      <th>3</th>\n",
       "      <td>Rahul</td>\n",
       "      <td>22</td>\n",
       "    </tr>\n",
       "    <tr>\n",
       "      <th>4</th>\n",
       "      <td>Kartik</td>\n",
       "      <td>23</td>\n",
       "    </tr>\n",
       "    <tr>\n",
       "      <th>5</th>\n",
       "      <td>Pratiksha</td>\n",
       "      <td>24</td>\n",
       "    </tr>\n",
       "    <tr>\n",
       "      <th>6</th>\n",
       "      <td>Maya</td>\n",
       "      <td>22</td>\n",
       "    </tr>\n",
       "    <tr>\n",
       "      <th>7</th>\n",
       "      <td>Shani</td>\n",
       "      <td>21</td>\n",
       "    </tr>\n",
       "  </tbody>\n",
       "</table>\n",
       "</div>"
      ],
      "text/plain": [
       "        Name  Age\n",
       "3      Rahul   22\n",
       "4     Kartik   23\n",
       "5  Pratiksha   24\n",
       "6       Maya   22\n",
       "7      Shani   21"
      ]
     },
     "execution_count": 15,
     "metadata": {},
     "output_type": "execute_result"
    }
   ],
   "source": [
    "df.loc[3:7,[\"Name\",\"Age\"]]"
   ]
  },
  {
   "cell_type": "markdown",
   "id": "c2103375",
   "metadata": {},
   "source": [
    "# iloc"
   ]
  },
  {
   "cell_type": "code",
   "execution_count": 16,
   "id": "62cb288c",
   "metadata": {},
   "outputs": [
    {
     "data": {
      "text/plain": [
       "Rank                Rank 4\n",
       "Name                 Rahul\n",
       "Age                     22\n",
       "Gender                Male\n",
       "Background            Tech\n",
       "Python                  68\n",
       "Machine Learning        75\n",
       "Name: 3, dtype: object"
      ]
     },
     "execution_count": 16,
     "metadata": {},
     "output_type": "execute_result"
    }
   ],
   "source": [
    "df.iloc[3]"
   ]
  },
  {
   "cell_type": "code",
   "execution_count": 17,
   "id": "b2474f9e",
   "metadata": {},
   "outputs": [
    {
     "data": {
      "text/html": [
       "<div>\n",
       "<style scoped>\n",
       "    .dataframe tbody tr th:only-of-type {\n",
       "        vertical-align: middle;\n",
       "    }\n",
       "\n",
       "    .dataframe tbody tr th {\n",
       "        vertical-align: top;\n",
       "    }\n",
       "\n",
       "    .dataframe thead th {\n",
       "        text-align: right;\n",
       "    }\n",
       "</style>\n",
       "<table border=\"1\" class=\"dataframe\">\n",
       "  <thead>\n",
       "    <tr style=\"text-align: right;\">\n",
       "      <th></th>\n",
       "      <th>Rank</th>\n",
       "      <th>Name</th>\n",
       "      <th>Age</th>\n",
       "      <th>Gender</th>\n",
       "      <th>Background</th>\n",
       "      <th>Python</th>\n",
       "      <th>Machine Learning</th>\n",
       "    </tr>\n",
       "  </thead>\n",
       "  <tbody>\n",
       "    <tr>\n",
       "      <th>3</th>\n",
       "      <td>Rank 4</td>\n",
       "      <td>Rahul</td>\n",
       "      <td>22</td>\n",
       "      <td>Male</td>\n",
       "      <td>Tech</td>\n",
       "      <td>68</td>\n",
       "      <td>75</td>\n",
       "    </tr>\n",
       "    <tr>\n",
       "      <th>4</th>\n",
       "      <td>Rank 5</td>\n",
       "      <td>Kartik</td>\n",
       "      <td>23</td>\n",
       "      <td>Male</td>\n",
       "      <td>Tech</td>\n",
       "      <td>60</td>\n",
       "      <td>70</td>\n",
       "    </tr>\n",
       "    <tr>\n",
       "      <th>5</th>\n",
       "      <td>Rank 6</td>\n",
       "      <td>Pratiksha</td>\n",
       "      <td>24</td>\n",
       "      <td>Female</td>\n",
       "      <td>Non-Tech</td>\n",
       "      <td>58</td>\n",
       "      <td>55</td>\n",
       "    </tr>\n",
       "    <tr>\n",
       "      <th>6</th>\n",
       "      <td>Rank 7</td>\n",
       "      <td>Maya</td>\n",
       "      <td>22</td>\n",
       "      <td>Female</td>\n",
       "      <td>Non-Tech</td>\n",
       "      <td>55</td>\n",
       "      <td>50</td>\n",
       "    </tr>\n",
       "  </tbody>\n",
       "</table>\n",
       "</div>"
      ],
      "text/plain": [
       "     Rank       Name  Age  Gender Background  Python  Machine Learning\n",
       "3  Rank 4      Rahul   22    Male       Tech      68                75\n",
       "4  Rank 5     Kartik   23    Male       Tech      60                70\n",
       "5  Rank 6  Pratiksha   24  Female   Non-Tech      58                55\n",
       "6  Rank 7       Maya   22  Female   Non-Tech      55                50"
      ]
     },
     "execution_count": 17,
     "metadata": {},
     "output_type": "execute_result"
    }
   ],
   "source": [
    "df.iloc[3:7]"
   ]
  },
  {
   "cell_type": "code",
   "execution_count": 18,
   "id": "da8fe0f6",
   "metadata": {},
   "outputs": [
    {
     "data": {
      "text/plain": [
       "Name          Rahul\n",
       "Age              22\n",
       "Gender         Male\n",
       "Background     Tech\n",
       "Name: 3, dtype: object"
      ]
     },
     "execution_count": 18,
     "metadata": {},
     "output_type": "execute_result"
    }
   ],
   "source": [
    "df.iloc[3,[1,2,3,4]]"
   ]
  },
  {
   "cell_type": "code",
   "execution_count": 19,
   "id": "120818f9",
   "metadata": {},
   "outputs": [
    {
     "data": {
      "text/html": [
       "<div>\n",
       "<style scoped>\n",
       "    .dataframe tbody tr th:only-of-type {\n",
       "        vertical-align: middle;\n",
       "    }\n",
       "\n",
       "    .dataframe tbody tr th {\n",
       "        vertical-align: top;\n",
       "    }\n",
       "\n",
       "    .dataframe thead th {\n",
       "        text-align: right;\n",
       "    }\n",
       "</style>\n",
       "<table border=\"1\" class=\"dataframe\">\n",
       "  <thead>\n",
       "    <tr style=\"text-align: right;\">\n",
       "      <th></th>\n",
       "      <th>Name</th>\n",
       "      <th>Age</th>\n",
       "      <th>Gender</th>\n",
       "    </tr>\n",
       "  </thead>\n",
       "  <tbody>\n",
       "    <tr>\n",
       "      <th>3</th>\n",
       "      <td>Rahul</td>\n",
       "      <td>22</td>\n",
       "      <td>Male</td>\n",
       "    </tr>\n",
       "    <tr>\n",
       "      <th>4</th>\n",
       "      <td>Kartik</td>\n",
       "      <td>23</td>\n",
       "      <td>Male</td>\n",
       "    </tr>\n",
       "    <tr>\n",
       "      <th>5</th>\n",
       "      <td>Pratiksha</td>\n",
       "      <td>24</td>\n",
       "      <td>Female</td>\n",
       "    </tr>\n",
       "    <tr>\n",
       "      <th>6</th>\n",
       "      <td>Maya</td>\n",
       "      <td>22</td>\n",
       "      <td>Female</td>\n",
       "    </tr>\n",
       "  </tbody>\n",
       "</table>\n",
       "</div>"
      ],
      "text/plain": [
       "        Name  Age  Gender\n",
       "3      Rahul   22    Male\n",
       "4     Kartik   23    Male\n",
       "5  Pratiksha   24  Female\n",
       "6       Maya   22  Female"
      ]
     },
     "execution_count": 19,
     "metadata": {},
     "output_type": "execute_result"
    }
   ],
   "source": [
    "df.iloc[3:7,[1,2,3]]"
   ]
  },
  {
   "cell_type": "code",
   "execution_count": 20,
   "id": "200285c1",
   "metadata": {},
   "outputs": [
    {
     "data": {
      "text/html": [
       "<div>\n",
       "<style scoped>\n",
       "    .dataframe tbody tr th:only-of-type {\n",
       "        vertical-align: middle;\n",
       "    }\n",
       "\n",
       "    .dataframe tbody tr th {\n",
       "        vertical-align: top;\n",
       "    }\n",
       "\n",
       "    .dataframe thead th {\n",
       "        text-align: right;\n",
       "    }\n",
       "</style>\n",
       "<table border=\"1\" class=\"dataframe\">\n",
       "  <thead>\n",
       "    <tr style=\"text-align: right;\">\n",
       "      <th></th>\n",
       "      <th>Age</th>\n",
       "      <th>Python</th>\n",
       "      <th>Machine Learning</th>\n",
       "    </tr>\n",
       "  </thead>\n",
       "  <tbody>\n",
       "    <tr>\n",
       "      <th>count</th>\n",
       "      <td>10.000000</td>\n",
       "      <td>10.000000</td>\n",
       "      <td>10.000000</td>\n",
       "    </tr>\n",
       "    <tr>\n",
       "      <th>mean</th>\n",
       "      <td>22.800000</td>\n",
       "      <td>62.300000</td>\n",
       "      <td>65.100000</td>\n",
       "    </tr>\n",
       "    <tr>\n",
       "      <th>std</th>\n",
       "      <td>1.229273</td>\n",
       "      <td>13.864824</td>\n",
       "      <td>17.666352</td>\n",
       "    </tr>\n",
       "    <tr>\n",
       "      <th>min</th>\n",
       "      <td>21.000000</td>\n",
       "      <td>45.000000</td>\n",
       "      <td>46.000000</td>\n",
       "    </tr>\n",
       "    <tr>\n",
       "      <th>25%</th>\n",
       "      <td>22.000000</td>\n",
       "      <td>51.250000</td>\n",
       "      <td>50.000000</td>\n",
       "    </tr>\n",
       "    <tr>\n",
       "      <th>50%</th>\n",
       "      <td>22.500000</td>\n",
       "      <td>59.000000</td>\n",
       "      <td>62.500000</td>\n",
       "    </tr>\n",
       "    <tr>\n",
       "      <th>75%</th>\n",
       "      <td>23.750000</td>\n",
       "      <td>69.500000</td>\n",
       "      <td>78.750000</td>\n",
       "    </tr>\n",
       "    <tr>\n",
       "      <th>max</th>\n",
       "      <td>25.000000</td>\n",
       "      <td>89.000000</td>\n",
       "      <td>95.000000</td>\n",
       "    </tr>\n",
       "  </tbody>\n",
       "</table>\n",
       "</div>"
      ],
      "text/plain": [
       "             Age     Python  Machine Learning\n",
       "count  10.000000  10.000000         10.000000\n",
       "mean   22.800000  62.300000         65.100000\n",
       "std     1.229273  13.864824         17.666352\n",
       "min    21.000000  45.000000         46.000000\n",
       "25%    22.000000  51.250000         50.000000\n",
       "50%    22.500000  59.000000         62.500000\n",
       "75%    23.750000  69.500000         78.750000\n",
       "max    25.000000  89.000000         95.000000"
      ]
     },
     "execution_count": 20,
     "metadata": {},
     "output_type": "execute_result"
    }
   ],
   "source": [
    "df.describe()"
   ]
  },
  {
   "cell_type": "code",
   "execution_count": 21,
   "id": "f857de2f",
   "metadata": {},
   "outputs": [
    {
     "data": {
      "text/plain": [
       "Male      6\n",
       "Female    4\n",
       "Name: Gender, dtype: int64"
      ]
     },
     "execution_count": 21,
     "metadata": {},
     "output_type": "execute_result"
    }
   ],
   "source": [
    "df.Gender.value_counts()"
   ]
  },
  {
   "cell_type": "code",
   "execution_count": 22,
   "id": "4a78fe5a",
   "metadata": {},
   "outputs": [],
   "source": [
    "df['total']=df.Python+df['Machine Learning']"
   ]
  },
  {
   "cell_type": "code",
   "execution_count": 23,
   "id": "b197c671",
   "metadata": {},
   "outputs": [
    {
     "data": {
      "text/html": [
       "<div>\n",
       "<style scoped>\n",
       "    .dataframe tbody tr th:only-of-type {\n",
       "        vertical-align: middle;\n",
       "    }\n",
       "\n",
       "    .dataframe tbody tr th {\n",
       "        vertical-align: top;\n",
       "    }\n",
       "\n",
       "    .dataframe thead th {\n",
       "        text-align: right;\n",
       "    }\n",
       "</style>\n",
       "<table border=\"1\" class=\"dataframe\">\n",
       "  <thead>\n",
       "    <tr style=\"text-align: right;\">\n",
       "      <th></th>\n",
       "      <th>Rank</th>\n",
       "      <th>Name</th>\n",
       "      <th>Age</th>\n",
       "      <th>Gender</th>\n",
       "      <th>Background</th>\n",
       "      <th>Python</th>\n",
       "      <th>Machine Learning</th>\n",
       "      <th>total</th>\n",
       "    </tr>\n",
       "  </thead>\n",
       "  <tbody>\n",
       "    <tr>\n",
       "      <th>0</th>\n",
       "      <td>Rank 1</td>\n",
       "      <td>Ravi</td>\n",
       "      <td>23</td>\n",
       "      <td>Male</td>\n",
       "      <td>Tech</td>\n",
       "      <td>89</td>\n",
       "      <td>95</td>\n",
       "      <td>184</td>\n",
       "    </tr>\n",
       "    <tr>\n",
       "      <th>1</th>\n",
       "      <td>Rank 2</td>\n",
       "      <td>Chandni</td>\n",
       "      <td>22</td>\n",
       "      <td>Female</td>\n",
       "      <td>Non-Tech</td>\n",
       "      <td>78</td>\n",
       "      <td>83</td>\n",
       "      <td>161</td>\n",
       "    </tr>\n",
       "    <tr>\n",
       "      <th>2</th>\n",
       "      <td>Rank 3</td>\n",
       "      <td>Gyanesh</td>\n",
       "      <td>25</td>\n",
       "      <td>Male</td>\n",
       "      <td>Tech</td>\n",
       "      <td>70</td>\n",
       "      <td>80</td>\n",
       "      <td>150</td>\n",
       "    </tr>\n",
       "    <tr>\n",
       "      <th>3</th>\n",
       "      <td>Rank 4</td>\n",
       "      <td>Rahul</td>\n",
       "      <td>22</td>\n",
       "      <td>Male</td>\n",
       "      <td>Tech</td>\n",
       "      <td>68</td>\n",
       "      <td>75</td>\n",
       "      <td>143</td>\n",
       "    </tr>\n",
       "    <tr>\n",
       "      <th>4</th>\n",
       "      <td>Rank 5</td>\n",
       "      <td>Kartik</td>\n",
       "      <td>23</td>\n",
       "      <td>Male</td>\n",
       "      <td>Tech</td>\n",
       "      <td>60</td>\n",
       "      <td>70</td>\n",
       "      <td>130</td>\n",
       "    </tr>\n",
       "  </tbody>\n",
       "</table>\n",
       "</div>"
      ],
      "text/plain": [
       "     Rank     Name  Age  Gender Background  Python  Machine Learning  total\n",
       "0  Rank 1     Ravi   23    Male       Tech      89                95    184\n",
       "1  Rank 2  Chandni   22  Female   Non-Tech      78                83    161\n",
       "2  Rank 3  Gyanesh   25    Male       Tech      70                80    150\n",
       "3  Rank 4    Rahul   22    Male       Tech      68                75    143\n",
       "4  Rank 5   Kartik   23    Male       Tech      60                70    130"
      ]
     },
     "execution_count": 23,
     "metadata": {},
     "output_type": "execute_result"
    }
   ],
   "source": [
    "df.head()"
   ]
  },
  {
   "cell_type": "code",
   "execution_count": 24,
   "id": "349fd723",
   "metadata": {},
   "outputs": [],
   "source": [
    "city=['chennai','delhi','mumbai','chennai','delhi','mumbai','chennai','delhi','mumbai',\"kerala\"]"
   ]
  },
  {
   "cell_type": "code",
   "execution_count": 25,
   "id": "265062fb",
   "metadata": {},
   "outputs": [],
   "source": [
    "df['city']=city"
   ]
  },
  {
   "cell_type": "code",
   "execution_count": 26,
   "id": "e800484c",
   "metadata": {},
   "outputs": [
    {
     "data": {
      "text/html": [
       "<div>\n",
       "<style scoped>\n",
       "    .dataframe tbody tr th:only-of-type {\n",
       "        vertical-align: middle;\n",
       "    }\n",
       "\n",
       "    .dataframe tbody tr th {\n",
       "        vertical-align: top;\n",
       "    }\n",
       "\n",
       "    .dataframe thead th {\n",
       "        text-align: right;\n",
       "    }\n",
       "</style>\n",
       "<table border=\"1\" class=\"dataframe\">\n",
       "  <thead>\n",
       "    <tr style=\"text-align: right;\">\n",
       "      <th></th>\n",
       "      <th>Rank</th>\n",
       "      <th>Name</th>\n",
       "      <th>Age</th>\n",
       "      <th>Gender</th>\n",
       "      <th>Background</th>\n",
       "      <th>Python</th>\n",
       "      <th>Machine Learning</th>\n",
       "      <th>total</th>\n",
       "      <th>city</th>\n",
       "    </tr>\n",
       "  </thead>\n",
       "  <tbody>\n",
       "    <tr>\n",
       "      <th>0</th>\n",
       "      <td>Rank 1</td>\n",
       "      <td>Ravi</td>\n",
       "      <td>23</td>\n",
       "      <td>Male</td>\n",
       "      <td>Tech</td>\n",
       "      <td>89</td>\n",
       "      <td>95</td>\n",
       "      <td>184</td>\n",
       "      <td>chennai</td>\n",
       "    </tr>\n",
       "    <tr>\n",
       "      <th>1</th>\n",
       "      <td>Rank 2</td>\n",
       "      <td>Chandni</td>\n",
       "      <td>22</td>\n",
       "      <td>Female</td>\n",
       "      <td>Non-Tech</td>\n",
       "      <td>78</td>\n",
       "      <td>83</td>\n",
       "      <td>161</td>\n",
       "      <td>delhi</td>\n",
       "    </tr>\n",
       "    <tr>\n",
       "      <th>2</th>\n",
       "      <td>Rank 3</td>\n",
       "      <td>Gyanesh</td>\n",
       "      <td>25</td>\n",
       "      <td>Male</td>\n",
       "      <td>Tech</td>\n",
       "      <td>70</td>\n",
       "      <td>80</td>\n",
       "      <td>150</td>\n",
       "      <td>mumbai</td>\n",
       "    </tr>\n",
       "    <tr>\n",
       "      <th>3</th>\n",
       "      <td>Rank 4</td>\n",
       "      <td>Rahul</td>\n",
       "      <td>22</td>\n",
       "      <td>Male</td>\n",
       "      <td>Tech</td>\n",
       "      <td>68</td>\n",
       "      <td>75</td>\n",
       "      <td>143</td>\n",
       "      <td>chennai</td>\n",
       "    </tr>\n",
       "    <tr>\n",
       "      <th>4</th>\n",
       "      <td>Rank 5</td>\n",
       "      <td>Kartik</td>\n",
       "      <td>23</td>\n",
       "      <td>Male</td>\n",
       "      <td>Tech</td>\n",
       "      <td>60</td>\n",
       "      <td>70</td>\n",
       "      <td>130</td>\n",
       "      <td>delhi</td>\n",
       "    </tr>\n",
       "  </tbody>\n",
       "</table>\n",
       "</div>"
      ],
      "text/plain": [
       "     Rank     Name  Age  Gender Background  Python  Machine Learning  total  \\\n",
       "0  Rank 1     Ravi   23    Male       Tech      89                95    184   \n",
       "1  Rank 2  Chandni   22  Female   Non-Tech      78                83    161   \n",
       "2  Rank 3  Gyanesh   25    Male       Tech      70                80    150   \n",
       "3  Rank 4    Rahul   22    Male       Tech      68                75    143   \n",
       "4  Rank 5   Kartik   23    Male       Tech      60                70    130   \n",
       "\n",
       "      city  \n",
       "0  chennai  \n",
       "1    delhi  \n",
       "2   mumbai  \n",
       "3  chennai  \n",
       "4    delhi  "
      ]
     },
     "execution_count": 26,
     "metadata": {},
     "output_type": "execute_result"
    }
   ],
   "source": [
    "df.head()"
   ]
  },
  {
   "cell_type": "code",
   "execution_count": 27,
   "id": "6bb68303",
   "metadata": {},
   "outputs": [
    {
     "data": {
      "text/plain": [
       "array(['chennai', 'delhi', 'mumbai', 'kerala'], dtype=object)"
      ]
     },
     "execution_count": 27,
     "metadata": {},
     "output_type": "execute_result"
    }
   ],
   "source": [
    "df[\"city\"].unique()"
   ]
  },
  {
   "cell_type": "code",
   "execution_count": 28,
   "id": "53544058",
   "metadata": {},
   "outputs": [
    {
     "data": {
      "text/plain": [
       "22.8"
      ]
     },
     "execution_count": 28,
     "metadata": {},
     "output_type": "execute_result"
    }
   ],
   "source": [
    "df[\"Age\"].mean()"
   ]
  },
  {
   "cell_type": "code",
   "execution_count": 29,
   "id": "2bb53ead",
   "metadata": {},
   "outputs": [
    {
     "data": {
      "text/html": [
       "<div>\n",
       "<style scoped>\n",
       "    .dataframe tbody tr th:only-of-type {\n",
       "        vertical-align: middle;\n",
       "    }\n",
       "\n",
       "    .dataframe tbody tr th {\n",
       "        vertical-align: top;\n",
       "    }\n",
       "\n",
       "    .dataframe thead th {\n",
       "        text-align: right;\n",
       "    }\n",
       "</style>\n",
       "<table border=\"1\" class=\"dataframe\">\n",
       "  <thead>\n",
       "    <tr style=\"text-align: right;\">\n",
       "      <th></th>\n",
       "      <th>Rank</th>\n",
       "      <th>Name</th>\n",
       "      <th>Age</th>\n",
       "      <th>Gender</th>\n",
       "      <th>Background</th>\n",
       "      <th>Python</th>\n",
       "      <th>Machine Learning</th>\n",
       "      <th>total</th>\n",
       "      <th>city</th>\n",
       "    </tr>\n",
       "  </thead>\n",
       "  <tbody>\n",
       "    <tr>\n",
       "      <th>0</th>\n",
       "      <td>Rank 1</td>\n",
       "      <td>Ravi</td>\n",
       "      <td>23</td>\n",
       "      <td>Male</td>\n",
       "      <td>Tech</td>\n",
       "      <td>89</td>\n",
       "      <td>95</td>\n",
       "      <td>184</td>\n",
       "      <td>chennai</td>\n",
       "    </tr>\n",
       "    <tr>\n",
       "      <th>3</th>\n",
       "      <td>Rank 4</td>\n",
       "      <td>Rahul</td>\n",
       "      <td>22</td>\n",
       "      <td>Male</td>\n",
       "      <td>Tech</td>\n",
       "      <td>68</td>\n",
       "      <td>75</td>\n",
       "      <td>143</td>\n",
       "      <td>chennai</td>\n",
       "    </tr>\n",
       "    <tr>\n",
       "      <th>6</th>\n",
       "      <td>Rank 7</td>\n",
       "      <td>Maya</td>\n",
       "      <td>22</td>\n",
       "      <td>Female</td>\n",
       "      <td>Non-Tech</td>\n",
       "      <td>55</td>\n",
       "      <td>50</td>\n",
       "      <td>105</td>\n",
       "      <td>chennai</td>\n",
       "    </tr>\n",
       "  </tbody>\n",
       "</table>\n",
       "</div>"
      ],
      "text/plain": [
       "     Rank   Name  Age  Gender Background  Python  Machine Learning  total  \\\n",
       "0  Rank 1   Ravi   23    Male       Tech      89                95    184   \n",
       "3  Rank 4  Rahul   22    Male       Tech      68                75    143   \n",
       "6  Rank 7   Maya   22  Female   Non-Tech      55                50    105   \n",
       "\n",
       "      city  \n",
       "0  chennai  \n",
       "3  chennai  \n",
       "6  chennai  "
      ]
     },
     "execution_count": 29,
     "metadata": {},
     "output_type": "execute_result"
    }
   ],
   "source": [
    "df[df[\"city\"]==\"chennai\"]"
   ]
  },
  {
   "cell_type": "code",
   "execution_count": 30,
   "id": "55e05ef7",
   "metadata": {},
   "outputs": [
    {
     "data": {
      "text/plain": [
       "144.0"
      ]
     },
     "execution_count": 30,
     "metadata": {},
     "output_type": "execute_result"
    }
   ],
   "source": [
    "df[df[\"city\"]==\"chennai\"]['total'].mean()"
   ]
  },
  {
   "cell_type": "code",
   "execution_count": 31,
   "id": "fac8f3e4",
   "metadata": {},
   "outputs": [
    {
     "data": {
      "text/plain": [
       "city\n",
       "chennai    144.000000\n",
       "delhi      130.333333\n",
       "kerala      91.000000\n",
       "mumbai     120.000000\n",
       "Name: total, dtype: float64"
      ]
     },
     "execution_count": 31,
     "metadata": {},
     "output_type": "execute_result"
    }
   ],
   "source": [
    "df.groupby(\"city\")['total'].mean()"
   ]
  },
  {
   "cell_type": "code",
   "execution_count": 32,
   "id": "a9e04422",
   "metadata": {},
   "outputs": [
    {
     "data": {
      "text/plain": [
       "Gender\n",
       "Female    23.000000\n",
       "Male      22.666667\n",
       "Name: Age, dtype: float64"
      ]
     },
     "execution_count": 32,
     "metadata": {},
     "output_type": "execute_result"
    }
   ],
   "source": [
    "df.groupby(\"Gender\")[\"Age\"].mean()"
   ]
  },
  {
   "cell_type": "code",
   "execution_count": 34,
   "id": "813d195b",
   "metadata": {},
   "outputs": [],
   "source": [
    "#df=df((df(df['city']==\"chennai\")) and (df['Gender']=='Male'))['Age'].mean()"
   ]
  },
  {
   "cell_type": "code",
   "execution_count": 53,
   "id": "01ace70c",
   "metadata": {},
   "outputs": [
    {
     "ename": "KeyError",
     "evalue": "'python'",
     "output_type": "error",
     "traceback": [
      "\u001b[1;31m---------------------------------------------------------------------------\u001b[0m",
      "\u001b[1;31mKeyError\u001b[0m                                  Traceback (most recent call last)",
      "File \u001b[1;32m~\\anaconda3\\lib\\site-packages\\pandas\\core\\indexes\\base.py:3802\u001b[0m, in \u001b[0;36mIndex.get_loc\u001b[1;34m(self, key, method, tolerance)\u001b[0m\n\u001b[0;32m   3801\u001b[0m \u001b[38;5;28;01mtry\u001b[39;00m:\n\u001b[1;32m-> 3802\u001b[0m     \u001b[38;5;28;01mreturn\u001b[39;00m \u001b[38;5;28;43mself\u001b[39;49m\u001b[38;5;241;43m.\u001b[39;49m\u001b[43m_engine\u001b[49m\u001b[38;5;241;43m.\u001b[39;49m\u001b[43mget_loc\u001b[49m\u001b[43m(\u001b[49m\u001b[43mcasted_key\u001b[49m\u001b[43m)\u001b[49m\n\u001b[0;32m   3803\u001b[0m \u001b[38;5;28;01mexcept\u001b[39;00m \u001b[38;5;167;01mKeyError\u001b[39;00m \u001b[38;5;28;01mas\u001b[39;00m err:\n",
      "File \u001b[1;32m~\\anaconda3\\lib\\site-packages\\pandas\\_libs\\index.pyx:138\u001b[0m, in \u001b[0;36mpandas._libs.index.IndexEngine.get_loc\u001b[1;34m()\u001b[0m\n",
      "File \u001b[1;32m~\\anaconda3\\lib\\site-packages\\pandas\\_libs\\index.pyx:165\u001b[0m, in \u001b[0;36mpandas._libs.index.IndexEngine.get_loc\u001b[1;34m()\u001b[0m\n",
      "File \u001b[1;32mpandas\\_libs\\hashtable_class_helper.pxi:5745\u001b[0m, in \u001b[0;36mpandas._libs.hashtable.PyObjectHashTable.get_item\u001b[1;34m()\u001b[0m\n",
      "File \u001b[1;32mpandas\\_libs\\hashtable_class_helper.pxi:5753\u001b[0m, in \u001b[0;36mpandas._libs.hashtable.PyObjectHashTable.get_item\u001b[1;34m()\u001b[0m\n",
      "\u001b[1;31mKeyError\u001b[0m: 'python'",
      "\nThe above exception was the direct cause of the following exception:\n",
      "\u001b[1;31mKeyError\u001b[0m                                  Traceback (most recent call last)",
      "Cell \u001b[1;32mIn[53], line 1\u001b[0m\n\u001b[1;32m----> 1\u001b[0m \u001b[43mdf\u001b[49m\u001b[43m[\u001b[49m\u001b[43mdf\u001b[49m\u001b[43m[\u001b[49m\u001b[38;5;124;43m'\u001b[39;49m\u001b[38;5;124;43mcity\u001b[39;49m\u001b[38;5;124;43m'\u001b[39;49m\u001b[43m]\u001b[49m\u001b[38;5;241;43m==\u001b[39;49m\u001b[38;5;124;43m\"\u001b[39;49m\u001b[38;5;124;43mchennai\u001b[39;49m\u001b[38;5;124;43m\"\u001b[39;49m\u001b[43m]\u001b[49m\u001b[43m[\u001b[49m\u001b[38;5;124;43m\"\u001b[39;49m\u001b[38;5;124;43mpython\u001b[39;49m\u001b[38;5;124;43m\"\u001b[39;49m\u001b[43m]\u001b[49m\u001b[38;5;241m.\u001b[39mmean()\n",
      "File \u001b[1;32m~\\anaconda3\\lib\\site-packages\\pandas\\core\\frame.py:3807\u001b[0m, in \u001b[0;36mDataFrame.__getitem__\u001b[1;34m(self, key)\u001b[0m\n\u001b[0;32m   3805\u001b[0m \u001b[38;5;28;01mif\u001b[39;00m \u001b[38;5;28mself\u001b[39m\u001b[38;5;241m.\u001b[39mcolumns\u001b[38;5;241m.\u001b[39mnlevels \u001b[38;5;241m>\u001b[39m \u001b[38;5;241m1\u001b[39m:\n\u001b[0;32m   3806\u001b[0m     \u001b[38;5;28;01mreturn\u001b[39;00m \u001b[38;5;28mself\u001b[39m\u001b[38;5;241m.\u001b[39m_getitem_multilevel(key)\n\u001b[1;32m-> 3807\u001b[0m indexer \u001b[38;5;241m=\u001b[39m \u001b[38;5;28;43mself\u001b[39;49m\u001b[38;5;241;43m.\u001b[39;49m\u001b[43mcolumns\u001b[49m\u001b[38;5;241;43m.\u001b[39;49m\u001b[43mget_loc\u001b[49m\u001b[43m(\u001b[49m\u001b[43mkey\u001b[49m\u001b[43m)\u001b[49m\n\u001b[0;32m   3808\u001b[0m \u001b[38;5;28;01mif\u001b[39;00m is_integer(indexer):\n\u001b[0;32m   3809\u001b[0m     indexer \u001b[38;5;241m=\u001b[39m [indexer]\n",
      "File \u001b[1;32m~\\anaconda3\\lib\\site-packages\\pandas\\core\\indexes\\base.py:3804\u001b[0m, in \u001b[0;36mIndex.get_loc\u001b[1;34m(self, key, method, tolerance)\u001b[0m\n\u001b[0;32m   3802\u001b[0m     \u001b[38;5;28;01mreturn\u001b[39;00m \u001b[38;5;28mself\u001b[39m\u001b[38;5;241m.\u001b[39m_engine\u001b[38;5;241m.\u001b[39mget_loc(casted_key)\n\u001b[0;32m   3803\u001b[0m \u001b[38;5;28;01mexcept\u001b[39;00m \u001b[38;5;167;01mKeyError\u001b[39;00m \u001b[38;5;28;01mas\u001b[39;00m err:\n\u001b[1;32m-> 3804\u001b[0m     \u001b[38;5;28;01mraise\u001b[39;00m \u001b[38;5;167;01mKeyError\u001b[39;00m(key) \u001b[38;5;28;01mfrom\u001b[39;00m \u001b[38;5;21;01merr\u001b[39;00m\n\u001b[0;32m   3805\u001b[0m \u001b[38;5;28;01mexcept\u001b[39;00m \u001b[38;5;167;01mTypeError\u001b[39;00m:\n\u001b[0;32m   3806\u001b[0m     \u001b[38;5;66;03m# If we have a listlike key, _check_indexing_error will raise\u001b[39;00m\n\u001b[0;32m   3807\u001b[0m     \u001b[38;5;66;03m#  InvalidIndexError. Otherwise we fall through and re-raise\u001b[39;00m\n\u001b[0;32m   3808\u001b[0m     \u001b[38;5;66;03m#  the TypeError.\u001b[39;00m\n\u001b[0;32m   3809\u001b[0m     \u001b[38;5;28mself\u001b[39m\u001b[38;5;241m.\u001b[39m_check_indexing_error(key)\n",
      "\u001b[1;31mKeyError\u001b[0m: 'python'"
     ]
    }
   ],
   "source": [
    "df[df['city']==\"chennai\"][\"python\"].mean()"
   ]
  },
  {
   "cell_type": "code",
   "execution_count": 36,
   "id": "35aed950",
   "metadata": {},
   "outputs": [
    {
     "data": {
      "text/html": [
       "<div>\n",
       "<style scoped>\n",
       "    .dataframe tbody tr th:only-of-type {\n",
       "        vertical-align: middle;\n",
       "    }\n",
       "\n",
       "    .dataframe tbody tr th {\n",
       "        vertical-align: top;\n",
       "    }\n",
       "\n",
       "    .dataframe thead th {\n",
       "        text-align: right;\n",
       "    }\n",
       "</style>\n",
       "<table border=\"1\" class=\"dataframe\">\n",
       "  <thead>\n",
       "    <tr style=\"text-align: right;\">\n",
       "      <th></th>\n",
       "      <th>Rank</th>\n",
       "      <th>Name</th>\n",
       "      <th>Age</th>\n",
       "      <th>Gender</th>\n",
       "      <th>Background</th>\n",
       "      <th>Python</th>\n",
       "      <th>Machine Learning</th>\n",
       "      <th>total</th>\n",
       "      <th>city</th>\n",
       "    </tr>\n",
       "  </thead>\n",
       "  <tbody>\n",
       "    <tr>\n",
       "      <th>0</th>\n",
       "      <td>Rank 1</td>\n",
       "      <td>Ravi</td>\n",
       "      <td>23</td>\n",
       "      <td>Male</td>\n",
       "      <td>Tech</td>\n",
       "      <td>89</td>\n",
       "      <td>95</td>\n",
       "      <td>184</td>\n",
       "      <td>chennai</td>\n",
       "    </tr>\n",
       "    <tr>\n",
       "      <th>1</th>\n",
       "      <td>Rank 2</td>\n",
       "      <td>Chandni</td>\n",
       "      <td>22</td>\n",
       "      <td>Female</td>\n",
       "      <td>Non-Tech</td>\n",
       "      <td>78</td>\n",
       "      <td>83</td>\n",
       "      <td>161</td>\n",
       "      <td>delhi</td>\n",
       "    </tr>\n",
       "    <tr>\n",
       "      <th>2</th>\n",
       "      <td>Rank 3</td>\n",
       "      <td>Gyanesh</td>\n",
       "      <td>25</td>\n",
       "      <td>Male</td>\n",
       "      <td>Tech</td>\n",
       "      <td>70</td>\n",
       "      <td>80</td>\n",
       "      <td>150</td>\n",
       "      <td>mumbai</td>\n",
       "    </tr>\n",
       "    <tr>\n",
       "      <th>3</th>\n",
       "      <td>Rank 4</td>\n",
       "      <td>Rahul</td>\n",
       "      <td>22</td>\n",
       "      <td>Male</td>\n",
       "      <td>Tech</td>\n",
       "      <td>68</td>\n",
       "      <td>75</td>\n",
       "      <td>143</td>\n",
       "      <td>chennai</td>\n",
       "    </tr>\n",
       "    <tr>\n",
       "      <th>4</th>\n",
       "      <td>Rank 5</td>\n",
       "      <td>Kartik</td>\n",
       "      <td>23</td>\n",
       "      <td>Male</td>\n",
       "      <td>Tech</td>\n",
       "      <td>60</td>\n",
       "      <td>70</td>\n",
       "      <td>130</td>\n",
       "      <td>delhi</td>\n",
       "    </tr>\n",
       "  </tbody>\n",
       "</table>\n",
       "</div>"
      ],
      "text/plain": [
       "     Rank     Name  Age  Gender Background  Python  Machine Learning  total  \\\n",
       "0  Rank 1     Ravi   23    Male       Tech      89                95    184   \n",
       "1  Rank 2  Chandni   22  Female   Non-Tech      78                83    161   \n",
       "2  Rank 3  Gyanesh   25    Male       Tech      70                80    150   \n",
       "3  Rank 4    Rahul   22    Male       Tech      68                75    143   \n",
       "4  Rank 5   Kartik   23    Male       Tech      60                70    130   \n",
       "\n",
       "      city  \n",
       "0  chennai  \n",
       "1    delhi  \n",
       "2   mumbai  \n",
       "3  chennai  \n",
       "4    delhi  "
      ]
     },
     "execution_count": 36,
     "metadata": {},
     "output_type": "execute_result"
    }
   ],
   "source": [
    "df.head()"
   ]
  },
  {
   "cell_type": "code",
   "execution_count": null,
   "id": "f4bac30c",
   "metadata": {},
   "outputs": [],
   "source": []
  },
  {
   "cell_type": "code",
   "execution_count": 49,
   "id": "399494e6",
   "metadata": {},
   "outputs": [
    {
     "data": {
      "text/html": [
       "<div>\n",
       "<style scoped>\n",
       "    .dataframe tbody tr th:only-of-type {\n",
       "        vertical-align: middle;\n",
       "    }\n",
       "\n",
       "    .dataframe tbody tr th {\n",
       "        vertical-align: top;\n",
       "    }\n",
       "\n",
       "    .dataframe thead th {\n",
       "        text-align: right;\n",
       "    }\n",
       "</style>\n",
       "<table border=\"1\" class=\"dataframe\">\n",
       "  <thead>\n",
       "    <tr style=\"text-align: right;\">\n",
       "      <th></th>\n",
       "      <th>Rank</th>\n",
       "      <th>Name</th>\n",
       "      <th>Age</th>\n",
       "      <th>Gender</th>\n",
       "      <th>Background</th>\n",
       "      <th>Python</th>\n",
       "      <th>Machine Learning</th>\n",
       "      <th>total</th>\n",
       "      <th>city</th>\n",
       "    </tr>\n",
       "  </thead>\n",
       "  <tbody>\n",
       "    <tr>\n",
       "      <th>0</th>\n",
       "      <td>Rank 1</td>\n",
       "      <td>Ravi</td>\n",
       "      <td>23</td>\n",
       "      <td>Male</td>\n",
       "      <td>Tech</td>\n",
       "      <td>89</td>\n",
       "      <td>95</td>\n",
       "      <td>184</td>\n",
       "      <td>chennai</td>\n",
       "    </tr>\n",
       "    <tr>\n",
       "      <th>1</th>\n",
       "      <td>Rank 2</td>\n",
       "      <td>Chandni</td>\n",
       "      <td>22</td>\n",
       "      <td>Female</td>\n",
       "      <td>Non-Tech</td>\n",
       "      <td>78</td>\n",
       "      <td>83</td>\n",
       "      <td>161</td>\n",
       "      <td>delhi</td>\n",
       "    </tr>\n",
       "    <tr>\n",
       "      <th>2</th>\n",
       "      <td>Rank 3</td>\n",
       "      <td>Gyanesh</td>\n",
       "      <td>25</td>\n",
       "      <td>Male</td>\n",
       "      <td>Tech</td>\n",
       "      <td>70</td>\n",
       "      <td>80</td>\n",
       "      <td>150</td>\n",
       "      <td>mumbai</td>\n",
       "    </tr>\n",
       "    <tr>\n",
       "      <th>3</th>\n",
       "      <td>Rank 4</td>\n",
       "      <td>Rahul</td>\n",
       "      <td>22</td>\n",
       "      <td>Male</td>\n",
       "      <td>Tech</td>\n",
       "      <td>68</td>\n",
       "      <td>75</td>\n",
       "      <td>143</td>\n",
       "      <td>chennai</td>\n",
       "    </tr>\n",
       "    <tr>\n",
       "      <th>4</th>\n",
       "      <td>Rank 5</td>\n",
       "      <td>Kartik</td>\n",
       "      <td>23</td>\n",
       "      <td>Male</td>\n",
       "      <td>Tech</td>\n",
       "      <td>60</td>\n",
       "      <td>70</td>\n",
       "      <td>130</td>\n",
       "      <td>delhi</td>\n",
       "    </tr>\n",
       "    <tr>\n",
       "      <th>5</th>\n",
       "      <td>Rank 6</td>\n",
       "      <td>Pratiksha</td>\n",
       "      <td>24</td>\n",
       "      <td>Female</td>\n",
       "      <td>Non-Tech</td>\n",
       "      <td>58</td>\n",
       "      <td>55</td>\n",
       "      <td>113</td>\n",
       "      <td>mumbai</td>\n",
       "    </tr>\n",
       "    <tr>\n",
       "      <th>6</th>\n",
       "      <td>Rank 7</td>\n",
       "      <td>Maya</td>\n",
       "      <td>22</td>\n",
       "      <td>Female</td>\n",
       "      <td>Non-Tech</td>\n",
       "      <td>55</td>\n",
       "      <td>50</td>\n",
       "      <td>105</td>\n",
       "      <td>chennai</td>\n",
       "    </tr>\n",
       "    <tr>\n",
       "      <th>7</th>\n",
       "      <td>Rank 8</td>\n",
       "      <td>Shani</td>\n",
       "      <td>21</td>\n",
       "      <td>Male</td>\n",
       "      <td>Tech</td>\n",
       "      <td>50</td>\n",
       "      <td>50</td>\n",
       "      <td>100</td>\n",
       "      <td>delhi</td>\n",
       "    </tr>\n",
       "    <tr>\n",
       "      <th>8</th>\n",
       "      <td>Rank 9</td>\n",
       "      <td>Neelam</td>\n",
       "      <td>24</td>\n",
       "      <td>Female</td>\n",
       "      <td>Non-Tech</td>\n",
       "      <td>50</td>\n",
       "      <td>47</td>\n",
       "      <td>97</td>\n",
       "      <td>mumbai</td>\n",
       "    </tr>\n",
       "    <tr>\n",
       "      <th>9</th>\n",
       "      <td>Rank 10</td>\n",
       "      <td>Mangal</td>\n",
       "      <td>22</td>\n",
       "      <td>Male</td>\n",
       "      <td>Non-Tech</td>\n",
       "      <td>45</td>\n",
       "      <td>46</td>\n",
       "      <td>91</td>\n",
       "      <td>kerala</td>\n",
       "    </tr>\n",
       "  </tbody>\n",
       "</table>\n",
       "</div>"
      ],
      "text/plain": [
       "      Rank       Name  Age  Gender Background  Python  Machine Learning  \\\n",
       "0   Rank 1       Ravi   23    Male       Tech      89                95   \n",
       "1   Rank 2    Chandni   22  Female   Non-Tech      78                83   \n",
       "2   Rank 3    Gyanesh   25    Male       Tech      70                80   \n",
       "3   Rank 4      Rahul   22    Male       Tech      68                75   \n",
       "4   Rank 5     Kartik   23    Male       Tech      60                70   \n",
       "5   Rank 6  Pratiksha   24  Female   Non-Tech      58                55   \n",
       "6   Rank 7       Maya   22  Female   Non-Tech      55                50   \n",
       "7   Rank 8      Shani   21    Male       Tech      50                50   \n",
       "8   Rank 9     Neelam   24  Female   Non-Tech      50                47   \n",
       "9  Rank 10     Mangal   22    Male   Non-Tech      45                46   \n",
       "\n",
       "   total     city  \n",
       "0    184  chennai  \n",
       "1    161    delhi  \n",
       "2    150   mumbai  \n",
       "3    143  chennai  \n",
       "4    130    delhi  \n",
       "5    113   mumbai  \n",
       "6    105  chennai  \n",
       "7    100    delhi  \n",
       "8     97   mumbai  \n",
       "9     91   kerala  "
      ]
     },
     "execution_count": 49,
     "metadata": {},
     "output_type": "execute_result"
    }
   ],
   "source": [
    "df"
   ]
  },
  {
   "cell_type": "code",
   "execution_count": 48,
   "id": "75e3d073",
   "metadata": {},
   "outputs": [
    {
     "data": {
      "text/plain": [
       "163.5"
      ]
     },
     "execution_count": 48,
     "metadata": {},
     "output_type": "execute_result"
    }
   ],
   "source": [
    "df[(df['city']==\"chennai\") & (df['Gender']==\"Male\")][\"total\"].mean()"
   ]
  },
  {
   "cell_type": "code",
   "execution_count": null,
   "id": "7813917b",
   "metadata": {},
   "outputs": [],
   "source": [
    "^^^^^the above is the mean of the <total> of the subbset contains city as chennai and gender as male^^^^^"
   ]
  },
  {
   "cell_type": "code",
   "execution_count": null,
   "id": "f94ccb79",
   "metadata": {},
   "outputs": [],
   "source": []
  }
 ],
 "metadata": {
  "kernelspec": {
   "display_name": "Python 3 (ipykernel)",
   "language": "python",
   "name": "python3"
  },
  "language_info": {
   "codemirror_mode": {
    "name": "ipython",
    "version": 3
   },
   "file_extension": ".py",
   "mimetype": "text/x-python",
   "name": "python",
   "nbconvert_exporter": "python",
   "pygments_lexer": "ipython3",
   "version": "3.10.9"
  }
 },
 "nbformat": 4,
 "nbformat_minor": 5
}

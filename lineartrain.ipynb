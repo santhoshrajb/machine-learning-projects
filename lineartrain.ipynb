{
 "cells": [
  {
   "cell_type": "code",
   "execution_count": 1,
   "id": "cb6d9a4a",
   "metadata": {},
   "outputs": [],
   "source": [
    "import pandas as pd\n",
    "import numpy as np\n",
    "import matplotlib.pyplot as plt\n",
    "from sklearn.linear_model import LinearRegression"
   ]
  },
  {
   "cell_type": "code",
   "execution_count": 2,
   "id": "7d1798ba",
   "metadata": {},
   "outputs": [
    {
     "data": {
      "text/html": [
       "<div>\n",
       "<style scoped>\n",
       "    .dataframe tbody tr th:only-of-type {\n",
       "        vertical-align: middle;\n",
       "    }\n",
       "\n",
       "    .dataframe tbody tr th {\n",
       "        vertical-align: top;\n",
       "    }\n",
       "\n",
       "    .dataframe thead th {\n",
       "        text-align: right;\n",
       "    }\n",
       "</style>\n",
       "<table border=\"1\" class=\"dataframe\">\n",
       "  <thead>\n",
       "    <tr style=\"text-align: right;\">\n",
       "      <th></th>\n",
       "      <th>x</th>\n",
       "      <th>y</th>\n",
       "    </tr>\n",
       "  </thead>\n",
       "  <tbody>\n",
       "    <tr>\n",
       "      <th>0</th>\n",
       "      <td>24.0</td>\n",
       "      <td>21.549452</td>\n",
       "    </tr>\n",
       "    <tr>\n",
       "      <th>1</th>\n",
       "      <td>50.0</td>\n",
       "      <td>47.464463</td>\n",
       "    </tr>\n",
       "    <tr>\n",
       "      <th>2</th>\n",
       "      <td>15.0</td>\n",
       "      <td>17.218656</td>\n",
       "    </tr>\n",
       "    <tr>\n",
       "      <th>3</th>\n",
       "      <td>38.0</td>\n",
       "      <td>36.586398</td>\n",
       "    </tr>\n",
       "    <tr>\n",
       "      <th>4</th>\n",
       "      <td>87.0</td>\n",
       "      <td>87.288984</td>\n",
       "    </tr>\n",
       "  </tbody>\n",
       "</table>\n",
       "</div>"
      ],
      "text/plain": [
       "      x          y\n",
       "0  24.0  21.549452\n",
       "1  50.0  47.464463\n",
       "2  15.0  17.218656\n",
       "3  38.0  36.586398\n",
       "4  87.0  87.288984"
      ]
     },
     "execution_count": 2,
     "metadata": {},
     "output_type": "execute_result"
    }
   ],
   "source": [
    "ds=pd.read_csv('lineartrain.csv')\n",
    "ds.head()\n"
   ]
  },
  {
   "cell_type": "code",
   "execution_count": 4,
   "id": "7c817276",
   "metadata": {},
   "outputs": [
    {
     "data": {
      "text/plain": [
       "<matplotlib.collections.PathCollection at 0x20ef689ee60>"
      ]
     },
     "execution_count": 4,
     "metadata": {},
     "output_type": "execute_result"
    },
    {
     "data": {
      "image/png": "[encoded data removed]",
      "text/plain": [
       "<Figure size 640x480 with 1 Axes>"
      ]
     },
     "metadata": {},
     "output_type": "display_data"
    }
   ],
   "source": [
    "%matplotlib inline\n",
    "plt.xlabel('x values')\n",
    "plt.ylabel('Y value')\n",
    "plt.scatter(ds.x,ds.y,color='blue')\n"
   ]
  },
  {
   "cell_type": "code",
   "execution_count": 5,
   "id": "969b17c8",
   "metadata": {},
   "outputs": [],
   "source": [
    "ds['x']=ds['x'].astype(int)"
   ]
  },
  {
   "cell_type": "code",
   "execution_count": 6,
   "id": "003499ea",
   "metadata": {},
   "outputs": [],
   "source": [
    "ds=ds.dropna()"
   ]
  },
  {
   "cell_type": "code",
   "execution_count": 7,
   "id": "e9d90cda",
   "metadata": {},
   "outputs": [],
   "source": [
    "from sklearn.linear_model import LinearRegression"
   ]
  },
  {
   "cell_type": "code",
   "execution_count": 8,
   "id": "d4583bdf",
   "metadata": {},
   "outputs": [
    {
     "data": {
      "text/html": [
       "<style>#sk-container-id-1 {color: black;background-color: white;}#sk-container-id-1 pre{padding: 0;}#sk-container-id-1 div.sk-toggleable {background-color: white;}#sk-container-id-1 label.sk-toggleable__label {cursor: pointer;display: block;width: 100%;margin-bottom: 0;padding: 0.3em;box-sizing: border-box;text-align: center;}#sk-container-id-1 label.sk-toggleable__label-arrow:before {content: \"▸\";float: left;margin-right: 0.25em;color: #696969;}#sk-container-id-1 label.sk-toggleable__label-arrow:hover:before {color: black;}#sk-container-id-1 div.sk-estimator:hover label.sk-toggleable__label-arrow:before {color: black;}#sk-container-id-1 div.sk-toggleable__content {max-height: 0;max-width: 0;overflow: hidden;text-align: left;background-color: #f0f8ff;}#sk-container-id-1 div.sk-toggleable__content pre {margin: 0.2em;color: black;border-radius: 0.25em;background-color: #f0f8ff;}#sk-container-id-1 input.sk-toggleable__control:checked~div.sk-toggleable__content {max-height: 200px;max-width: 100%;overflow: auto;}#sk-container-id-1 input.sk-toggleable__control:checked~label.sk-toggleable__label-arrow:before {content: \"▾\";}#sk-container-id-1 div.sk-estimator input.sk-toggleable__control:checked~label.sk-toggleable__label {background-color: #d4ebff;}#sk-container-id-1 div.sk-label input.sk-toggleable__control:checked~label.sk-toggleable__label {background-color: #d4ebff;}#sk-container-id-1 input.sk-hidden--visually {border: 0;clip: rect(1px 1px 1px 1px);clip: rect(1px, 1px, 1px, 1px);height: 1px;margin: -1px;overflow: hidden;padding: 0;position: absolute;width: 1px;}#sk-container-id-1 div.sk-estimator {font-family: monospace;background-color: #f0f8ff;border: 1px dotted black;border-radius: 0.25em;box-sizing: border-box;margin-bottom: 0.5em;}#sk-container-id-1 div.sk-estimator:hover {background-color: #d4ebff;}#sk-container-id-1 div.sk-parallel-item::after {content: \"\";width: 100%;border-bottom: 1px solid gray;flex-grow: 1;}#sk-container-id-1 div.sk-label:hover label.sk-toggleable__label {background-color: #d4ebff;}#sk-container-id-1 div.sk-serial::before {content: \"\";position: absolute;border-left: 1px solid gray;box-sizing: border-box;top: 0;bottom: 0;left: 50%;z-index: 0;}#sk-container-id-1 div.sk-serial {display: flex;flex-direction: column;align-items: center;background-color: white;padding-right: 0.2em;padding-left: 0.2em;position: relative;}#sk-container-id-1 div.sk-item {position: relative;z-index: 1;}#sk-container-id-1 div.sk-parallel {display: flex;align-items: stretch;justify-content: center;background-color: white;position: relative;}#sk-container-id-1 div.sk-item::before, #sk-container-id-1 div.sk-parallel-item::before {content: \"\";position: absolute;border-left: 1px solid gray;box-sizing: border-box;top: 0;bottom: 0;left: 50%;z-index: -1;}#sk-container-id-1 div.sk-parallel-item {display: flex;flex-direction: column;z-index: 1;position: relative;background-color: white;}#sk-container-id-1 div.sk-parallel-item:first-child::after {align-self: flex-end;width: 50%;}#sk-container-id-1 div.sk-parallel-item:last-child::after {align-self: flex-start;width: 50%;}#sk-container-id-1 div.sk-parallel-item:only-child::after {width: 0;}#sk-container-id-1 div.sk-dashed-wrapped {border: 1px dashed gray;margin: 0 0.4em 0.5em 0.4em;box-sizing: border-box;padding-bottom: 0.4em;background-color: white;}#sk-container-id-1 div.sk-label label {font-family: monospace;font-weight: bold;display: inline-block;line-height: 1.2em;}#sk-container-id-1 div.sk-label-container {text-align: center;}#sk-container-id-1 div.sk-container {/* jupyter's `normalize.less` sets `[hidden] { display: none; }` but bootstrap.min.css set `[hidden] { display: none !important; }` so we also need the `!important` here to be able to override the default hidden behavior on the sphinx rendered scikit-learn.org. See: https://github.com/scikit-learn/scikit-learn/issues/21755 */display: inline-block !important;position: relative;}#sk-container-id-1 div.sk-text-repr-fallback {display: none;}</style><div id=\"sk-container-id-1\" class=\"sk-top-container\"><div class=\"sk-text-repr-fallback\"><pre>LinearRegression()</pre><b>In a Jupyter environment, please rerun this cell to show the HTML representation or trust the notebook. <br />On GitHub, the HTML representation is unable to render, please try loading this page with nbviewer.org.</b></div><div class=\"sk-container\" hidden><div class=\"sk-item\"><div class=\"sk-estimator sk-toggleable\"><input class=\"sk-toggleable__control sk-hidden--visually\" id=\"sk-estimator-id-1\" type=\"checkbox\" checked><label for=\"sk-estimator-id-1\" class=\"sk-toggleable__label sk-toggleable__label-arrow\">LinearRegression</label><div class=\"sk-toggleable__content\"><pre>LinearRegression()</pre></div></div></div></div></div>"
      ],
      "text/plain": [
       "LinearRegression()"
      ]
     },
     "execution_count": 8,
     "metadata": {},
     "output_type": "execute_result"
    }
   ],
   "source": [
    "reg=LinearRegression()\n",
    "reg.fit(ds[['x']],ds.y)"
   ]
  },
  {
   "cell_type": "code",
   "execution_count": 9,
   "id": "e13dbc5d",
   "metadata": {},
   "outputs": [],
   "source": [
    "r2score=reg.score(ds[['x']],ds.y)"
   ]
  },
  {
   "cell_type": "code",
   "execution_count": 10,
   "id": "87c60a0e",
   "metadata": {},
   "outputs": [
    {
     "name": "stdout",
     "output_type": "stream",
     "text": [
      "0.9907015319025518\n"
     ]
    }
   ],
   "source": [
    "print(r2score)"
   ]
  },
  {
   "cell_type": "code",
   "execution_count": 11,
   "id": "a7f8803c",
   "metadata": {},
   "outputs": [
    {
     "data": {
      "text/plain": [
       "array([1.00065638])"
      ]
     },
     "execution_count": 11,
     "metadata": {},
     "output_type": "execute_result"
    }
   ],
   "source": [
    "reg.coef_"
   ]
  },
  {
   "cell_type": "code",
   "execution_count": 12,
   "id": "05f1d17c",
   "metadata": {},
   "outputs": [
    {
     "data": {
      "text/plain": [
       "-0.10726546430095851"
      ]
     },
     "execution_count": 12,
     "metadata": {},
     "output_type": "execute_result"
    }
   ],
   "source": [
    "reg.intercept_"
   ]
  },
  {
   "cell_type": "code",
   "execution_count": 13,
   "id": "13b34acf",
   "metadata": {},
   "outputs": [],
   "source": [
    "d=pd.read_csv(\"lineartest.csv\")"
   ]
  },
  {
   "cell_type": "code",
   "execution_count": 14,
   "id": "1af7db4b",
   "metadata": {},
   "outputs": [
    {
     "data": {
      "text/html": [
       "<div>\n",
       "<style scoped>\n",
       "    .dataframe tbody tr th:only-of-type {\n",
       "        vertical-align: middle;\n",
       "    }\n",
       "\n",
       "    .dataframe tbody tr th {\n",
       "        vertical-align: top;\n",
       "    }\n",
       "\n",
       "    .dataframe thead th {\n",
       "        text-align: right;\n",
       "    }\n",
       "</style>\n",
       "<table border=\"1\" class=\"dataframe\">\n",
       "  <thead>\n",
       "    <tr style=\"text-align: right;\">\n",
       "      <th></th>\n",
       "      <th>x</th>\n",
       "      <th>y</th>\n",
       "    </tr>\n",
       "  </thead>\n",
       "  <tbody>\n",
       "    <tr>\n",
       "      <th>0</th>\n",
       "      <td>77</td>\n",
       "      <td>79.775152</td>\n",
       "    </tr>\n",
       "    <tr>\n",
       "      <th>1</th>\n",
       "      <td>21</td>\n",
       "      <td>23.177279</td>\n",
       "    </tr>\n",
       "    <tr>\n",
       "      <th>2</th>\n",
       "      <td>22</td>\n",
       "      <td>25.609262</td>\n",
       "    </tr>\n",
       "    <tr>\n",
       "      <th>3</th>\n",
       "      <td>20</td>\n",
       "      <td>17.857388</td>\n",
       "    </tr>\n",
       "    <tr>\n",
       "      <th>4</th>\n",
       "      <td>36</td>\n",
       "      <td>41.849864</td>\n",
       "    </tr>\n",
       "  </tbody>\n",
       "</table>\n",
       "</div>"
      ],
      "text/plain": [
       "    x          y\n",
       "0  77  79.775152\n",
       "1  21  23.177279\n",
       "2  22  25.609262\n",
       "3  20  17.857388\n",
       "4  36  41.849864"
      ]
     },
     "execution_count": 14,
     "metadata": {},
     "output_type": "execute_result"
    }
   ],
   "source": [
    "d.head()"
   ]
  },
  {
   "cell_type": "code",
   "execution_count": 15,
   "id": "639e655d",
   "metadata": {},
   "outputs": [],
   "source": [
    "ypred=reg.predict(d[['x']])"
   ]
  },
  {
   "cell_type": "code",
   "execution_count": 16,
   "id": "487a3322",
   "metadata": {},
   "outputs": [
    {
     "data": {
      "text/plain": [
       "array([76.94327594, 20.90651855, 21.90717494, 19.90586217, 35.91636428,\n",
       "       14.90258026, 61.93343021, 94.95509081, 19.90586217,  4.89601644,\n",
       "        3.89536006, 18.90520579, 95.95574719, 61.93343021, 35.91636428,\n",
       "       14.90258026, 64.93539936, 13.90192388, 86.94983976, 68.93802488,\n",
       "       88.95115252, 50.92621001, 88.95115252, 26.91045685, 96.95640358,\n",
       "       57.93080468, 78.9445887 , 20.90651855, 92.95377805, 26.91045685,\n",
       "       98.95771634, 30.91308237, 32.91439514, 79.94524508, 27.91111323,\n",
       "       46.92358448, 52.92752277, 68.93802488, 27.91111323, 32.91439514,\n",
       "       90.95246528, 70.93933765, 49.92555363, 75.94261956,  3.89536006,\n",
       "       36.91702066, 69.93868127, 67.9373685 , 39.91898981, 34.9157079 ,\n",
       "       93.95443443, 87.95049614, 51.92686639, 30.91308237, 58.93146107,\n",
       "       -0.10726546, 38.91833343, 63.93474297, 68.93802488, 56.9301483 ,\n",
       "       12.9012675 , 71.93999403, 75.94261956, 60.93277383, 81.94655785,\n",
       "       17.90454941, 40.91964619, 49.92555363, 54.92883554, 12.9012675 ,\n",
       "       45.9229281 , 12.9012675 , 78.9445887 , 52.92752277, 14.90258026,\n",
       "       27.91111323, 80.94590147, 68.93802488, 51.92686639, 83.94787061,\n",
       "       67.9373685 , 26.91045685, 55.92949192, 47.92424086, 39.91898981,\n",
       "       38.91833343, 81.94655785, 99.95837272, 58.93146107, 42.92095896,\n",
       "       66.93671212, 37.91767705, 62.93408659, 90.95246528, 59.93211745,\n",
       "       13.90192388, 20.90651855, 86.94983976, 72.94065041, 31.91373876,\n",
       "        1.8940473 , 81.94655785, 18.90520579, 73.94130679, 41.92030257,\n",
       "       11.90061112,  0.89339092, 89.9518089 , 88.95115252, -0.10726546,\n",
       "       40.91964619, 15.90323665, 93.95443443, 96.95640358, 65.93605574,\n",
       "       23.9084877 , 16.90389303, 89.9518089 , 12.9012675 , -0.10726546,\n",
       "       63.93474297, 95.95574719, 97.95705996, 11.90061112, 40.91964619,\n",
       "       46.92358448, 77.94393232, 19.90586217, 88.95115252, 28.91176961,\n",
       "       63.93474297, 74.94196317, 11.90061112, 24.90914408, 27.91111323,\n",
       "       29.91242599, 64.93539936, 58.93146107, 63.93474297, 52.92752277,\n",
       "       70.93933765, 96.95640358, 72.94065041,  8.89864197, 11.90061112,\n",
       "       62.93408659, 98.95771634, 59.93211745, 34.9157079 ,  1.8940473 ,\n",
       "       59.93211745, 31.91373876, 93.95443443, 83.94787061, 62.93408659,\n",
       "       21.90717494, 80.94590147, 92.95377805, 32.91439514,  6.89732921,\n",
       "       41.92030257, 45.9229281 , 53.92817916, 15.90323665, 48.92489725,\n",
       "       42.92095896, 94.95509081, 65.93605574, 20.90651855, 34.9157079 ,\n",
       "       79.94524508, 36.91702066, 53.92817916, 55.92949192,  0.89339092,\n",
       "       31.91373876, 57.93080468, 31.91373876, 45.9229281 , 71.93999403,\n",
       "       16.90389303, 96.95640358, 92.95377805, 90.95246528, 36.91702066,\n",
       "        3.89536006, 53.92817916, 50.92621001, 26.91045685, 45.9229281 ,\n",
       "       91.95312167, 72.94065041, 76.94327594, 90.95246528, 60.93277383,\n",
       "       98.95771634,  3.89536006, 71.93999403, 18.90520579, 56.9301483 ,\n",
       "       77.94393232, 25.90980046, 73.94130679, 89.9518089 , 65.93605574,\n",
       "       12.9012675 , 39.91898981, 76.94327594, 66.93671212, 74.94196317,\n",
       "       22.90783132, 44.92227172, 58.93146107, 43.92161534, 22.90783132,\n",
       "       54.92883554, 54.92883554, 94.95509081, 11.90061112,  3.89536006,\n",
       "        6.89732921, 99.95837272, 47.92424086, 41.92030257, 95.95574719,\n",
       "       38.91833343, 99.95837272, 86.94983976, 13.90192388, 13.90192388,\n",
       "       36.91702066,  4.89601644, 87.95049614, 90.95246528, 64.93539936,\n",
       "       73.94130679, 55.92949192, 15.90323665,  4.89601644, 27.91111323,\n",
       "       91.95312167, 45.9229281 , 53.92817916, 38.91833343, 43.92161534,\n",
       "       30.91308237, 67.9373685 , 85.94918338, 89.9518089 , 37.91767705,\n",
       "       20.90651855, 94.95509081, 55.92949192, 59.93211745, 64.93539936,\n",
       "       77.94393232, 88.95115252,  5.89667283, 66.93671212, 35.91636428,\n",
       "       15.90323665, 99.95837272, 44.92227172, 72.94065041, 56.9301483 ,\n",
       "       19.90586217, 75.94261956, 33.91505152, 54.92883554, 71.93999403,\n",
       "       54.92883554,  7.89798559, 55.92949192, 71.93999403, 57.93080468,\n",
       "        5.89667283, 95.95574719, 22.90783132, 57.93080468, 22.90783132,\n",
       "       18.90520579, 24.90914408, 63.93474297, 20.90651855, 58.93146107,\n",
       "       18.90520579, 15.90323665, 41.92030257, 42.92095896, 60.93277383,\n",
       "       91.95312167, 10.89995474, 40.91964619,  0.89339092,  7.89798559,\n",
       "       70.93933765, 45.9229281 , 54.92883554, 61.93343021, 46.92358448])"
      ]
     },
     "execution_count": 16,
     "metadata": {},
     "output_type": "execute_result"
    }
   ],
   "source": [
    "ypred"
   ]
  },
  {
   "cell_type": "code",
   "execution_count": 17,
   "id": "38b08bab",
   "metadata": {},
   "outputs": [],
   "source": [
    "from sklearn.metrics import r2_score"
   ]
  },
  {
   "cell_type": "code",
   "execution_count": 18,
   "id": "6c3b4321",
   "metadata": {},
   "outputs": [],
   "source": [
    "r2=r2_score(d['y'],ypred)"
   ]
  },
  {
   "cell_type": "code",
   "execution_count": 19,
   "id": "7eee5314",
   "metadata": {},
   "outputs": [
    {
     "data": {
      "text/plain": [
       "0.9888014444327563"
      ]
     },
     "execution_count": 19,
     "metadata": {},
     "output_type": "execute_result"
    }
   ],
   "source": [
    "r2"
   ]
  },
  {
   "cell_type": "code",
   "execution_count": null,
   "id": "cd0170c1",
   "metadata": {},
   "outputs": [],
   "source": []
  },
  {
   "cell_type": "code",
   "execution_count": null,
   "id": "c1738dbf",
   "metadata": {},
   "outputs": [],
   "source": []
  },
  {
   "cell_type": "code",
   "execution_count": null,
   "id": "a45b886d",
   "metadata": {},
   "outputs": [],
   "source": []
  },
  {
   "cell_type": "code",
   "execution_count": null,
   "id": "bd3952e0",
   "metadata": {},
   "outputs": [],
   "source": []
  }
 ],
 "metadata": {
  "kernelspec": {
   "display_name": "Python 3 (ipykernel)",
   "language": "python",
   "name": "python3"
  },
  "language_info": {
   "codemirror_mode": {
    "name": "ipython",
    "version": 3
   },
   "file_extension": ".py",
   "mimetype": "text/x-python",
   "name": "python",
   "nbconvert_exporter": "python",
   "pygments_lexer": "ipython3",
   "version": "3.10.9"
  }
 },
 "nbformat": 4,
 "nbformat_minor": 5
}

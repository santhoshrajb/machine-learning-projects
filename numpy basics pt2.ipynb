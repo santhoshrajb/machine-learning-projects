{
 "cells": [
  {
   "cell_type": "code",
   "execution_count": 1,
   "id": "db418b79",
   "metadata": {},
   "outputs": [],
   "source": [
    "import numpy as np"
   ]
  },
  {
   "cell_type": "code",
   "execution_count": 4,
   "id": "564e08a0",
   "metadata": {},
   "outputs": [],
   "source": [
    "a=np.array([1,2,3,4,5,6])"
   ]
  },
  {
   "cell_type": "code",
   "execution_count": 5,
   "id": "928ede39",
   "metadata": {},
   "outputs": [],
   "source": [
    "arr=a.reshape(2,3)"
   ]
  },
  {
   "cell_type": "code",
   "execution_count": 6,
   "id": "d28354ce",
   "metadata": {},
   "outputs": [
    {
     "data": {
      "text/plain": [
       "array([[1, 2, 3],\n",
       "       [4, 5, 6]])"
      ]
     },
     "execution_count": 6,
     "metadata": {},
     "output_type": "execute_result"
    }
   ],
   "source": [
    "arr"
   ]
  },
  {
   "cell_type": "code",
   "execution_count": 7,
   "id": "f90fa416",
   "metadata": {},
   "outputs": [],
   "source": [
    "b=np.array([7,8,9,10,11,12])"
   ]
  },
  {
   "cell_type": "code",
   "execution_count": 8,
   "id": "486a890e",
   "metadata": {},
   "outputs": [],
   "source": [
    "arr1=b.reshape(2,3)"
   ]
  },
  {
   "cell_type": "code",
   "execution_count": 9,
   "id": "7dfb3cbb",
   "metadata": {},
   "outputs": [
    {
     "data": {
      "text/plain": [
       "array([[ 7,  8,  9],\n",
       "       [10, 11, 12]])"
      ]
     },
     "execution_count": 9,
     "metadata": {},
     "output_type": "execute_result"
    }
   ],
   "source": [
    "arr1"
   ]
  },
  {
   "cell_type": "code",
   "execution_count": 10,
   "id": "3cb621d4",
   "metadata": {},
   "outputs": [],
   "source": [
    "c=np.concatenate((arr,arr1))"
   ]
  },
  {
   "cell_type": "code",
   "execution_count": 11,
   "id": "3cbb2c21",
   "metadata": {},
   "outputs": [
    {
     "data": {
      "text/plain": [
       "array([[ 1,  2,  3],\n",
       "       [ 4,  5,  6],\n",
       "       [ 7,  8,  9],\n",
       "       [10, 11, 12]])"
      ]
     },
     "execution_count": 11,
     "metadata": {},
     "output_type": "execute_result"
    }
   ],
   "source": [
    "c"
   ]
  },
  {
   "cell_type": "code",
   "execution_count": 12,
   "id": "1247c189",
   "metadata": {},
   "outputs": [],
   "source": [
    "d=np.vstack((arr,arr1))"
   ]
  },
  {
   "cell_type": "code",
   "execution_count": 13,
   "id": "3f308c60",
   "metadata": {},
   "outputs": [
    {
     "data": {
      "text/plain": [
       "array([[ 1,  2,  3],\n",
       "       [ 4,  5,  6],\n",
       "       [ 7,  8,  9],\n",
       "       [10, 11, 12]])"
      ]
     },
     "execution_count": 13,
     "metadata": {},
     "output_type": "execute_result"
    }
   ],
   "source": [
    "d"
   ]
  },
  {
   "cell_type": "code",
   "execution_count": 14,
   "id": "3d5b1ece",
   "metadata": {},
   "outputs": [],
   "source": [
    "d=np.hstack((arr,arr1))"
   ]
  },
  {
   "cell_type": "code",
   "execution_count": 16,
   "id": "531a4c6e",
   "metadata": {},
   "outputs": [],
   "source": [
    "e=np.append(a,[100,200,300])"
   ]
  },
  {
   "cell_type": "code",
   "execution_count": 17,
   "id": "53d48142",
   "metadata": {},
   "outputs": [
    {
     "data": {
      "text/plain": [
       "array([  1,   2,   3,   4,   5,   6, 100, 200, 300])"
      ]
     },
     "execution_count": 17,
     "metadata": {},
     "output_type": "execute_result"
    }
   ],
   "source": [
    "e"
   ]
  },
  {
   "cell_type": "code",
   "execution_count": 18,
   "id": "1ffb1496",
   "metadata": {},
   "outputs": [],
   "source": [
    "f=np.insert(a,0,[1000,2000,3000])"
   ]
  },
  {
   "cell_type": "code",
   "execution_count": 19,
   "id": "c97eb426",
   "metadata": {},
   "outputs": [
    {
     "data": {
      "text/plain": [
       "array([1000, 2000, 3000,    1,    2,    3,    4,    5,    6])"
      ]
     },
     "execution_count": 19,
     "metadata": {},
     "output_type": "execute_result"
    }
   ],
   "source": [
    "f"
   ]
  },
  {
   "cell_type": "code",
   "execution_count": 20,
   "id": "ef8611d3",
   "metadata": {},
   "outputs": [],
   "source": [
    "g=np.delete(a,[3])"
   ]
  },
  {
   "cell_type": "code",
   "execution_count": 21,
   "id": "c4eeff5e",
   "metadata": {},
   "outputs": [
    {
     "data": {
      "text/plain": [
       "array([1, 2, 3, 5, 6])"
      ]
     },
     "execution_count": 21,
     "metadata": {},
     "output_type": "execute_result"
    }
   ],
   "source": [
    "g"
   ]
  },
  {
   "cell_type": "code",
   "execution_count": null,
   "id": "448c8906",
   "metadata": {},
   "outputs": [],
   "source": []
  }
 ],
 "metadata": {
  "kernelspec": {
   "display_name": "Python 3 (ipykernel)",
   "language": "python",
   "name": "python3"
  },
  "language_info": {
   "codemirror_mode": {
    "name": "ipython",
    "version": 3
   },
   "file_extension": ".py",
   "mimetype": "text/x-python",
   "name": "python",
   "nbconvert_exporter": "python",
   "pygments_lexer": "ipython3",
   "version": "3.10.9"
  }
 },
 "nbformat": 4,
 "nbformat_minor": 5
}
